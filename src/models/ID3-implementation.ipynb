{
 "cells": [
  {
   "cell_type": "markdown",
   "id": "8a77807f92f26ee",
   "metadata": {},
   "source": [
    "# This is a sample Jupyter Notebook\n",
    "\n",
    "Below is an example of a code cell. \n",
    "Put your cursor into the cell and press Shift+Enter to execute it and select the next one, or click 'Run Cell' button.\n",
    "\n",
    "Press Double Shift to search everywhere for classes, files, tool windows, actions, and settings.\n",
    "\n",
    "To learn more about Jupyter Notebooks in PyCharm, see [help](https://www.jetbrains.com/help/pycharm/ipython-notebook-support.html).\n",
    "For an overview of PyCharm, go to Help -> Learn IDE features or refer to [our documentation](https://www.jetbrains.com/help/pycharm/getting-started.html)."
   ]
  },
  {
   "cell_type": "markdown",
   "id": "f9e4c8ab07e5b8de",
   "metadata": {},
   "source": [
    "# ID3 Algorithma"
   ]
  },
  {
   "cell_type": "markdown",
   "id": "44de772168b75fa7",
   "metadata": {},
   "source": [
    "## Importing libraries"
   ]
  },
  {
   "cell_type": "code",
   "id": "fbc121e30a2defb3",
   "metadata": {
    "ExecuteTime": {
     "end_time": "2024-12-12T11:48:15.347885Z",
     "start_time": "2024-12-12T11:48:14.567287Z"
    }
   },
   "source": [
    "from collections import Counter\n",
    "from typing import Tuple, Any\n",
    "\n",
    "import pandas as pd\n",
    "import numpy as np\n",
    "import os\n",
    "\n",
    "from pandas import Series, DataFrame"
   ],
   "outputs": [],
   "execution_count": 1
  },
  {
   "cell_type": "markdown",
   "id": "8ad5e40432363a9e",
   "metadata": {},
   "source": [
    "## Loading the dataset"
   ]
  },
  {
   "cell_type": "code",
   "id": "5e2ff64558c03492",
   "metadata": {
    "ExecuteTime": {
     "end_time": "2024-12-12T11:48:16.618817Z",
     "start_time": "2024-12-12T11:48:15.367525Z"
    }
   },
   "source": [
    "# Load test data\n",
    "test_folder = 'data/test/'\n",
    "test_files = os.listdir(test_folder)\n",
    "test_df = pd.DataFrame()\n",
    "for file in test_files:\n",
    "    df = pd.read_csv(test_folder + file)\n",
    "    test_df = pd.concat([test_df, df], axis=1)\n",
    "\n",
    "# Load train data\n",
    "train_folder = 'data/train/'\n",
    "train_files = os.listdir(train_folder)\n",
    "train_df = pd.DataFrame()\n",
    "for file in train_files:\n",
    "    df = pd.read_csv(train_folder + file)\n",
    "    train_df = pd.concat([train_df, df], axis=1)"
   ],
   "outputs": [],
   "execution_count": 2
  },
  {
   "cell_type": "markdown",
   "id": "52ddb184b4dacfba",
   "metadata": {},
   "source": [
    "### ID3 Implementation"
   ]
  },
  {
   "metadata": {
    "ExecuteTime": {
     "end_time": "2024-12-12T11:48:17.041754Z",
     "start_time": "2024-12-12T11:48:17.037656Z"
    }
   },
   "cell_type": "code",
   "source": [
    "class Node:\n",
    "    def __init__(self, feature=None, threshold=None, left=None, right=None, value=None):\n",
    "        self.feature = feature  # Feature index\n",
    "        self.threshold = threshold  # Threshold value for the feature\n",
    "        self.left = left  # Left child\n",
    "        self.right = right  # Right child\n",
    "        self.value = value  # Leaf node value"
   ],
   "id": "797ef578c87b4348",
   "outputs": [],
   "execution_count": 3
  },
  {
   "cell_type": "code",
   "id": "1aaf8415d57923a4",
   "metadata": {
    "ExecuteTime": {
     "end_time": "2024-12-12T11:48:17.107004Z",
     "start_time": "2024-12-12T11:48:17.102402Z"
    }
   },
   "source": [
    "def entropy(y):\n",
    "    \"\"\"Calculate entropy of label array y.\"\"\"\n",
    "    hist = np.bincount(y)\n",
    "    ps = hist / len(y)\n",
    "    return -np.sum([p * np.log2(p) for p in ps if p > 0])\n"
   ],
   "outputs": [],
   "execution_count": 4
  },
  {
   "metadata": {
    "ExecuteTime": {
     "end_time": "2024-12-12T11:48:17.170265Z",
     "start_time": "2024-12-12T11:48:17.164622Z"
    }
   },
   "cell_type": "code",
   "source": [
    "def information_gain(y, X_column, threshold):\n",
    "    \"\"\"Calculate information gain.\"\"\"\n",
    "    parent_entropy = entropy(y)\n",
    "\n",
    "    # Generate left and right child\n",
    "    left_mask = X_column <= threshold\n",
    "    right_mask = ~left_mask\n",
    "\n",
    "    if len(y[left_mask]) == 0 or len(y[right_mask]) == 0:\n",
    "        return 0\n",
    "\n",
    "    # Calculate weighted avg. entropy of children\n",
    "    n = len(y)\n",
    "    n_l, n_r = len(y[left_mask]), len(y[right_mask])\n",
    "    e_l, e_r = entropy(y[left_mask]), entropy(y[right_mask])\n",
    "    child_entropy = (n_l/n) * e_l + (n_r/n) * e_r\n",
    "\n",
    "    # Return information gain\n",
    "    return parent_entropy - child_entropy"
   ],
   "id": "524189baa20f5816",
   "outputs": [],
   "execution_count": 5
  },
  {
   "metadata": {
    "ExecuteTime": {
     "end_time": "2024-12-12T11:48:17.293916Z",
     "start_time": "2024-12-12T11:48:17.288293Z"
    }
   },
   "cell_type": "code",
   "source": [
    "def find_best_split(X, y):\n",
    "    \"\"\"Find the best split using information gain.\"\"\"\n",
    "    best_gain = -1\n",
    "    best_feature = None\n",
    "    best_threshold = None\n",
    "\n",
    "    n_features = X.shape[1]\n",
    "\n",
    "    for feature in range(n_features):\n",
    "        thresholds = np.unique(X[:, feature])\n",
    "        for threshold in thresholds:\n",
    "            gain = information_gain(y, X[:, feature], threshold)\n",
    "            if gain > best_gain:\n",
    "                best_gain = gain\n",
    "                best_feature = feature\n",
    "                best_threshold = threshold\n",
    "\n",
    "    return best_feature, best_threshold"
   ],
   "id": "ef83c1145e53312e",
   "outputs": [],
   "execution_count": 6
  },
  {
   "metadata": {
    "ExecuteTime": {
     "end_time": "2024-12-12T11:48:17.308919Z",
     "start_time": "2024-12-12T11:48:17.300610Z"
    }
   },
   "cell_type": "code",
   "source": [
    "def build_tree(X, y, feature_names, max_depth=10, min_samples_split=2, min_impurity_decrease=0.0, depth=0):\n",
    "    \"\"\"Recursively build the decision tree with pruning.\"\"\"\n",
    "    n_samples, n_features = X.shape\n",
    "    n_classes = len(np.unique(y))\n",
    "\n",
    "    # Stopping criteria\n",
    "    if depth >= max_depth or n_samples < min_samples_split or n_classes == 1:\n",
    "        leaf_value = Counter(y).most_common(1)[0][0]\n",
    "        return Node(value=leaf_value)\n",
    "\n",
    "    # Find best split\n",
    "    best_feature, best_threshold = find_best_split(X, y)\n",
    "\n",
    "    # If no split improves information gain, return leaf node\n",
    "    if best_feature is None:\n",
    "        leaf_value = Counter(y).most_common(1)[0][0]\n",
    "        return Node(value=leaf_value)\n",
    "\n",
    "    # Calculate impurity decrease\n",
    "    parent_entropy = entropy(y)\n",
    "    left_mask = X[:, best_feature] <= best_threshold\n",
    "    right_mask = ~left_mask\n",
    "    n = len(y)\n",
    "    n_l, n_r = len(y[left_mask]), len(y[right_mask])\n",
    "    e_l, e_r = entropy(y[left_mask]), entropy(y[right_mask])\n",
    "    child_entropy = (n_l/n) * e_l + (n_r/n) * e_r\n",
    "    impurity_decrease = parent_entropy - child_entropy\n",
    "\n",
    "    # Prune if impurity decrease is less than the threshold\n",
    "    if impurity_decrease < min_impurity_decrease:\n",
    "        leaf_value = Counter(y).most_common(1)[0][0]\n",
    "        return Node(value=leaf_value)\n",
    "\n",
    "    # Create child splits\n",
    "    left = build_tree(X[left_mask], y[left_mask], feature_names, max_depth, min_samples_split, min_impurity_decrease, depth + 1)\n",
    "    right = build_tree(X[right_mask], y[right_mask], feature_names, max_depth, min_samples_split, min_impurity_decrease, depth + 1)\n",
    "\n",
    "    return Node(feature=feature_names[best_feature],\n",
    "                threshold=best_threshold,\n",
    "                left=left,\n",
    "                right=right)\n"
   ],
   "id": "669d249f7342c2c0",
   "outputs": [],
   "execution_count": 7
  },
  {
   "metadata": {
    "ExecuteTime": {
     "end_time": "2024-12-12T11:48:17.364652Z",
     "start_time": "2024-12-12T11:48:17.360521Z"
    }
   },
   "cell_type": "code",
   "source": [
    "def predict_sample(node, x):\n",
    "    \"\"\"Predict single sample.\"\"\"\n",
    "    if node.value is not None:\n",
    "        return node.value\n",
    "\n",
    "    if x[node.feature] <= node.threshold:\n",
    "        return predict_sample(node.left, x)\n",
    "    return predict_sample(node.right, x)\n",
    "\n"
   ],
   "id": "b7d0cf60596df39f",
   "outputs": [],
   "execution_count": 8
  },
  {
   "metadata": {
    "ExecuteTime": {
     "end_time": "2024-12-12T11:48:17.421725Z",
     "start_time": "2024-12-12T11:48:17.417072Z"
    }
   },
   "cell_type": "code",
   "source": [
    "def predict(tree, X):\n",
    "    \"\"\"Predict multiple samples.\"\"\"\n",
    "    return np.array([predict_sample(tree, x) for x in X])\n"
   ],
   "id": "e7e11cbb59d5dc43",
   "outputs": [],
   "execution_count": 9
  },
  {
   "metadata": {
    "ExecuteTime": {
     "end_time": "2024-12-12T11:48:17.479822Z",
     "start_time": "2024-12-12T11:48:17.474754Z"
    }
   },
   "cell_type": "code",
   "source": [
    "# Function to print the tree (for visualization)\n",
    "def print_tree(node, depth=0):\n",
    "    \"\"\"Print the decision tree.\"\"\"\n",
    "    if node.value is not None:\n",
    "        print('  ' * depth + f'Predict: {node.value}')\n",
    "        return\n",
    "\n",
    "    print('  ' * depth + f'Feature {node.feature} <= {node.threshold}')\n",
    "    print_tree(node.left, depth + 1)\n",
    "    print_tree(node.right, depth + 1)"
   ],
   "id": "5b766e2cadec679f",
   "outputs": [],
   "execution_count": 10
  },
  {
   "cell_type": "code",
   "id": "73f2e7986f6ba54c",
   "metadata": {
    "ExecuteTime": {
     "end_time": "2024-12-12T11:48:17.907914Z",
     "start_time": "2024-12-12T11:48:17.535046Z"
    }
   },
   "source": [
    "# Pre-processing the data\n",
    "# Set train set 20% of the data\n",
    "train_set = train_df.sample(frac=0.2, random_state=42)\n",
    "\n",
    "# Splitting the data into X and y\n",
    "X = train_set.drop('attack_cat', axis=1)\n",
    "y = train_set['attack_cat']\n",
    "feature_names = train_set.drop('attack_cat', axis=1).columns.tolist()\n",
    "\n",
    "categorical_cols = X.select_dtypes(include=['object']).columns\n",
    "numerical_cols = X.select_dtypes(include=['int64', 'float64']).columns\n",
    "\n",
    "# Impute missing values\n",
    "# For numerical columns, we will impute missing values with the mean\n",
    "for col in numerical_cols:\n",
    "    mean_value = X[col].mean()\n",
    "    X[col] = X[col].fillna(mean_value)\n",
    "\n",
    "# For categorical columns, we will impute missing values with the mode (most frequent value)\n",
    "for col in categorical_cols:\n",
    "    mode_value = X[col].mode()[0]\n",
    "    X[col] = X[col].fillna(mode_value)\n",
    "\n",
    "# Encode categorical variables with one-hot encoding\n",
    "X = pd.get_dummies(X)\n",
    "\n",
    "# Scaling the numerical columns (using numpy for standardization)\n",
    "for col in numerical_cols:\n",
    "    col_mean = X[col].mean()\n",
    "    col_std = X[col].std()\n",
    "    X[col] = (X[col] - col_mean) / col_std\n",
    "    \n",
    "# Encode the target variable\n",
    "y = pd.get_dummies(y)\n",
    "y = y.values.argmax(axis=1)\n",
    "y = np.array(y, dtype=int)\n"
   ],
   "outputs": [],
   "execution_count": 11
  },
  {
   "metadata": {
    "ExecuteTime": {
     "end_time": "2024-12-12T11:49:31.081948Z",
     "start_time": "2024-12-12T11:49:31.064860Z"
    }
   },
   "cell_type": "code",
   "source": [
    "# Create a small dataset using NumPy\n",
    "np.random.seed(42)  # For reproducibility\n",
    "X = np.random.rand(10, 3)  # 10 samples, 3 features\n",
    "y = np.random.randint(0, 2, size=10)  # Binary target variable\n",
    "\n",
    "# Convert to pandas DataFrame\n",
    "df = pd.DataFrame(X, columns=['feature1', 'feature2', 'feature3'])\n",
    "df['target'] = y\n",
    "\n",
    "# Display the DataFrame\n",
    "print(\"DataFrame:\")\n",
    "print(df)\n",
    "\n",
    "# Basic operations\n",
    "# Calculate mean of each feature\n",
    "feature_means = df[['feature1', 'feature2', 'feature3']].mean()\n",
    "print(\"\\nFeature Means:\")\n",
    "print(feature_means)\n",
    "\n",
    "# Check for missing values\n",
    "missing_values = df.isnull().sum()\n",
    "print(\"\\nMissing Values:\")\n",
    "print(missing_values)\n",
    "\n",
    "# Encode target variable\n",
    "df['target_encoded'] = df['target'].astype(int)\n",
    "\n",
    "# Display the updated DataFrame\n",
    "print(\"\\nUpdated DataFrame with Encoded Target:\")\n",
    "print(df)\n",
    "\n",
    "decision_tree = build_tree(X, y, df.columns.tolist())\n",
    "\n",
    "# Print the tree structure\n",
    "print_tree(decision_tree)"
   ],
   "id": "db0b1d4355c471b9",
   "outputs": [
    {
     "name": "stdout",
     "output_type": "stream",
     "text": [
      "DataFrame:\n",
      "   feature1  feature2  feature3  target\n",
      "0  0.374540  0.950714  0.731994       0\n",
      "1  0.598658  0.156019  0.155995       0\n",
      "2  0.058084  0.866176  0.601115       0\n",
      "3  0.708073  0.020584  0.969910       0\n",
      "4  0.832443  0.212339  0.181825       0\n",
      "5  0.183405  0.304242  0.524756       1\n",
      "6  0.431945  0.291229  0.611853       1\n",
      "7  0.139494  0.292145  0.366362       0\n",
      "8  0.456070  0.785176  0.199674       1\n",
      "9  0.514234  0.592415  0.046450       1\n",
      "\n",
      "Feature Means:\n",
      "feature1    0.429695\n",
      "feature2    0.447104\n",
      "feature3    0.438993\n",
      "dtype: float64\n",
      "\n",
      "Missing Values:\n",
      "feature1    0\n",
      "feature2    0\n",
      "feature3    0\n",
      "target      0\n",
      "dtype: int64\n",
      "\n",
      "Updated DataFrame with Encoded Target:\n",
      "   feature1  feature2  feature3  target  target_encoded\n",
      "0  0.374540  0.950714  0.731994       0               0\n",
      "1  0.598658  0.156019  0.155995       0               0\n",
      "2  0.058084  0.866176  0.601115       0               0\n",
      "3  0.708073  0.020584  0.969910       0               0\n",
      "4  0.832443  0.212339  0.181825       0               0\n",
      "5  0.183405  0.304242  0.524756       1               1\n",
      "6  0.431945  0.291229  0.611853       1               1\n",
      "7  0.139494  0.292145  0.366362       0               0\n",
      "8  0.456070  0.785176  0.199674       1               1\n",
      "9  0.514234  0.592415  0.046450       1               1\n",
      "Feature feature1 <= 0.5142344384136116\n",
      "  Feature feature1 <= 0.3745401188473625\n",
      "    Feature feature1 <= 0.13949386065204183\n",
      "      Predict: 0\n",
      "      Feature feature1 <= 0.18340450985343382\n",
      "        Predict: 1\n",
      "        Predict: 0\n",
      "    Predict: 1\n",
      "  Predict: 0\n"
     ]
    }
   ],
   "execution_count": 14
  },
  {
   "cell_type": "code",
   "id": "a8e6e5aefb582395",
   "metadata": {
    "ExecuteTime": {
     "end_time": "2024-12-12T11:48:18.583580400Z",
     "start_time": "2024-12-11T03:37:47.002571Z"
    }
   },
   "source": [
    "\n",
    "# Print the tree structure\n",
    "print_tree(decision_tree)\n",
    "\n",
    "# Make predictions\n",
    "y_pred = predict(decision_tree, X.values)\n",
    "\n",
    "# Calculate accuracy\n",
    "accuracy = np.mean(y_pred == y)\n",
    "print(f\"Accuracy: {accuracy:.4f}\")\n"
   ],
   "outputs": [
    {
     "name": "stdout",
     "output_type": "stream",
     "text": [
      "Predicted class: None\n"
     ]
    }
   ],
   "execution_count": 81
  }
 ],
 "metadata": {
  "kernelspec": {
   "display_name": "Python 3 (ipykernel)",
   "language": "python",
   "name": "python3"
  },
  "language_info": {
   "codemirror_mode": {
    "name": "ipython",
    "version": 3
   },
   "file_extension": ".py",
   "mimetype": "text/x-python",
   "name": "python",
   "nbconvert_exporter": "python",
   "pygments_lexer": "ipython3",
   "version": "3.12.7"
  }
 },
 "nbformat": 4,
 "nbformat_minor": 5
}
